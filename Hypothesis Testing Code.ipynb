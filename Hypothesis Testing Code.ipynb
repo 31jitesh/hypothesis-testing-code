{
 "cells": [
  {
   "cell_type": "code",
   "execution_count": 2,
   "id": "e25a20c2",
   "metadata": {},
   "outputs": [],
   "source": [
    "import numpy as np\n",
    "from scipy import stats"
   ]
  },
  {
   "cell_type": "markdown",
   "id": "2c00f7e2",
   "metadata": {},
   "source": [
    "## Left tail test"
   ]
  },
  {
   "cell_type": "code",
   "execution_count": 3,
   "id": "7feffbaf",
   "metadata": {},
   "outputs": [
    {
     "data": {
      "text/plain": [
       "-1.0"
      ]
     },
     "execution_count": 3,
     "metadata": {},
     "output_type": "execute_result"
    }
   ],
   "source": [
    "Z_cal=(149-150)/(2/np.sqrt(4))\n",
    "Z_cal"
   ]
  },
  {
   "cell_type": "code",
   "execution_count": 4,
   "id": "39d087ca",
   "metadata": {},
   "outputs": [
    {
     "data": {
      "text/plain": [
       "0.15865525393145707"
      ]
     },
     "execution_count": 4,
     "metadata": {},
     "output_type": "execute_result"
    }
   ],
   "source": [
    "#left tail\n",
    "stats.norm.cdf(-1.0)"
   ]
  },
  {
   "cell_type": "code",
   "execution_count": null,
   "id": "6991793b",
   "metadata": {},
   "outputs": [],
   "source": [
    "##p>alpha.   do not reject H0"
   ]
  },
  {
   "cell_type": "markdown",
   "id": "0ddd5a7c",
   "metadata": {},
   "source": [
    "## Right tail test"
   ]
  },
  {
   "cell_type": "code",
   "execution_count": 7,
   "id": "d16f7564",
   "metadata": {},
   "outputs": [
    {
     "data": {
      "text/plain": [
       "1.0954451150103321"
      ]
     },
     "execution_count": 7,
     "metadata": {},
     "output_type": "execute_result"
    }
   ],
   "source": [
    "Z_cal=(32-30)/(10/np.sqrt(30))\n",
    "Z_cal"
   ]
  },
  {
   "cell_type": "code",
   "execution_count": 8,
   "id": "6dce1879",
   "metadata": {},
   "outputs": [
    {
     "data": {
      "text/plain": [
       "0.1378565720320355"
      ]
     },
     "execution_count": 8,
     "metadata": {},
     "output_type": "execute_result"
    }
   ],
   "source": [
    "#right tail                        -----cdf- cumulative distribution function\n",
    "1-stats.norm.cdf(1.09)"
   ]
  },
  {
   "cell_type": "code",
   "execution_count": 9,
   "id": "c298e2bf",
   "metadata": {},
   "outputs": [
    {
     "data": {
      "text/plain": [
       "0.1378565720320355"
      ]
     },
     "execution_count": 9,
     "metadata": {},
     "output_type": "execute_result"
    }
   ],
   "source": [
    "#right tail                         --------sf-survival function\n",
    "stats.norm.sf(1.09)"
   ]
  },
  {
   "cell_type": "code",
   "execution_count": null,
   "id": "208b4489",
   "metadata": {},
   "outputs": [],
   "source": [
    "## do not reject H0"
   ]
  },
  {
   "cell_type": "markdown",
   "id": "13a36cfb",
   "metadata": {},
   "source": [
    "# Two tail test"
   ]
  },
  {
   "cell_type": "code",
   "execution_count": 11,
   "id": "5cfc5779",
   "metadata": {},
   "outputs": [
    {
     "data": {
      "text/plain": [
       "2.7386127875258306"
      ]
     },
     "execution_count": 11,
     "metadata": {},
     "output_type": "execute_result"
    }
   ],
   "source": [
    "Z_cal=(505-500)/(10/np.sqrt(30))\n",
    "Z_cal"
   ]
  },
  {
   "cell_type": "code",
   "execution_count": 14,
   "id": "d1ca3e8e",
   "metadata": {},
   "outputs": [
    {
     "data": {
      "text/plain": [
       "0.00616989932054416"
      ]
     },
     "execution_count": 14,
     "metadata": {},
     "output_type": "execute_result"
    }
   ],
   "source": [
    "#Two tail\n",
    "pvalue=2*stats.norm.sf(Z_cal)\n",
    "pvalue"
   ]
  },
  {
   "cell_type": "code",
   "execution_count": 16,
   "id": "5ed98c7d",
   "metadata": {},
   "outputs": [],
   "source": [
    "#p low null go\n",
    "#reject H0"
   ]
  },
  {
   "cell_type": "code",
   "execution_count": null,
   "id": "34f57e1d",
   "metadata": {},
   "outputs": [],
   "source": []
  }
 ],
 "metadata": {
  "kernelspec": {
   "display_name": "Python 3 (ipykernel)",
   "language": "python",
   "name": "python3"
  },
  "language_info": {
   "codemirror_mode": {
    "name": "ipython",
    "version": 3
   },
   "file_extension": ".py",
   "mimetype": "text/x-python",
   "name": "python",
   "nbconvert_exporter": "python",
   "pygments_lexer": "ipython3",
   "version": "3.9.13"
  }
 },
 "nbformat": 4,
 "nbformat_minor": 5
}
